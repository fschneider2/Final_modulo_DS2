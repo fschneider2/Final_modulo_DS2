{
 "cells": [
  {
   "cell_type": "code",
   "execution_count": 14,
   "metadata": {},
   "outputs": [],
   "source": [
    "import pandas as pd \n",
    "import numpy as np \n",
    "import re "
   ]
  },
  {
   "cell_type": "code",
   "execution_count": 15,
   "metadata": {},
   "outputs": [],
   "source": [
    "df_pokemon = pd.read_csv('pokemon.csv')\n",
    "\n",
    "df_pokemon_tipos_1 = pd.read_csv('pokemon_tipos_1.csv')\n",
    "\n",
    "df_pokemon_tipos_2 = pd.read_csv('pokemon_tipos_2.csv')"
   ]
  },
  {
   "cell_type": "code",
   "execution_count": 16,
   "metadata": {},
   "outputs": [],
   "source": [
    "# Por ser um a base de dados pequena, optei por trabalhar com todos os dados disponibilizados, para isso, me DF principal será a junção dos 3.\n",
    "\n",
    "df_pokemon_complete = df_pokemon.merge(df_pokemon_tipos_1).merge(df_pokemon_tipos_2)"
   ]
  },
  {
   "cell_type": "code",
   "execution_count": 17,
   "metadata": {},
   "outputs": [
    {
     "name": "stdout",
     "output_type": "stream",
     "text": [
      "<class 'pandas.core.frame.DataFrame'>\n",
      "Int64Index: 414 entries, 0 to 413\n",
      "Data columns (total 15 columns):\n",
      " #   Column                   Non-Null Count  Dtype  \n",
      "---  ------                   --------------  -----  \n",
      " 0   #                        414 non-null    int64  \n",
      " 1   pokemon_nome             414 non-null    object \n",
      " 2   pokemon_tipo_1_id        414 non-null    int64  \n",
      " 3   pokemon_tipo_2_id        414 non-null    float64\n",
      " 4   pokemon_total            414 non-null    int64  \n",
      " 5   pokemon_hp               414 non-null    int64  \n",
      " 6   pokemon_attack           414 non-null    int64  \n",
      " 7   pokemon_defense          414 non-null    int64  \n",
      " 8   pokemon_ataque_especial  414 non-null    int64  \n",
      " 9   pokemon_defesa_especial  414 non-null    int64  \n",
      " 10  pokemon_velocidade       414 non-null    int64  \n",
      " 11  pokemon_geracao          414 non-null    int64  \n",
      " 12  pokemon_lendario         414 non-null    bool   \n",
      " 13  pokemon_tipo_1_nome      414 non-null    object \n",
      " 14  pokemon_tipo_2_nome      414 non-null    object \n",
      "dtypes: bool(1), float64(1), int64(10), object(3)\n",
      "memory usage: 48.9+ KB\n"
     ]
    },
    {
     "data": {
      "text/plain": [
       "Index(['#', 'pokemon_nome', 'pokemon_tipo_1_id', 'pokemon_tipo_2_id',\n",
       "       'pokemon_total', 'pokemon_hp', 'pokemon_attack', 'pokemon_defense',\n",
       "       'pokemon_ataque_especial', 'pokemon_defesa_especial',\n",
       "       'pokemon_velocidade', 'pokemon_geracao', 'pokemon_lendario',\n",
       "       'pokemon_tipo_1_nome', 'pokemon_tipo_2_nome'],\n",
       "      dtype='object')"
      ]
     },
     "execution_count": 17,
     "metadata": {},
     "output_type": "execute_result"
    }
   ],
   "source": [
    "# Exibindo informações úteis antes do tratamento dos dados. O info() será útil para analizar os tratamentos necessarios e o columns para saber o nome das colunas.\n",
    "\n",
    "df_pokemon_complete.info()\n",
    "\n",
    "df_pokemon_complete.columns"
   ]
  },
  {
   "cell_type": "code",
   "execution_count": 18,
   "metadata": {},
   "outputs": [
    {
     "data": {
      "text/html": [
       "<div>\n",
       "<style scoped>\n",
       "    .dataframe tbody tr th:only-of-type {\n",
       "        vertical-align: middle;\n",
       "    }\n",
       "\n",
       "    .dataframe tbody tr th {\n",
       "        vertical-align: top;\n",
       "    }\n",
       "\n",
       "    .dataframe thead th {\n",
       "        text-align: right;\n",
       "    }\n",
       "</style>\n",
       "<table border=\"1\" class=\"dataframe\">\n",
       "  <thead>\n",
       "    <tr style=\"text-align: right;\">\n",
       "      <th></th>\n",
       "      <th>#</th>\n",
       "      <th>pokemon_nome</th>\n",
       "      <th>pokemon_tipo_1_id</th>\n",
       "      <th>pokemon_tipo_2_id</th>\n",
       "      <th>pokemon_total</th>\n",
       "      <th>pokemon_hp</th>\n",
       "      <th>pokemon_attack</th>\n",
       "      <th>pokemon_defense</th>\n",
       "      <th>pokemon_ataque_especial</th>\n",
       "      <th>pokemon_defesa_especial</th>\n",
       "      <th>pokemon_velocidade</th>\n",
       "      <th>pokemon_geracao</th>\n",
       "      <th>pokemon_lendario</th>\n",
       "      <th>pokemon_tipo_1_nome</th>\n",
       "      <th>pokemon_tipo_2_nome</th>\n",
       "    </tr>\n",
       "  </thead>\n",
       "  <tbody>\n",
       "    <tr>\n",
       "      <th>0</th>\n",
       "      <td>1</td>\n",
       "      <td>Bulbasaur</td>\n",
       "      <td>10</td>\n",
       "      <td>14.0</td>\n",
       "      <td>318</td>\n",
       "      <td>45</td>\n",
       "      <td>49</td>\n",
       "      <td>49</td>\n",
       "      <td>65</td>\n",
       "      <td>65</td>\n",
       "      <td>45</td>\n",
       "      <td>1</td>\n",
       "      <td>False</td>\n",
       "      <td>Grass</td>\n",
       "      <td>Poison</td>\n",
       "    </tr>\n",
       "  </tbody>\n",
       "</table>\n",
       "</div>"
      ],
      "text/plain": [
       "   # pokemon_nome  pokemon_tipo_1_id  pokemon_tipo_2_id  pokemon_total  \\\n",
       "0  1    Bulbasaur                 10               14.0            318   \n",
       "\n",
       "   pokemon_hp  pokemon_attack  pokemon_defense  pokemon_ataque_especial  \\\n",
       "0          45              49               49                       65   \n",
       "\n",
       "   pokemon_defesa_especial  pokemon_velocidade  pokemon_geracao  \\\n",
       "0                       65                  45                1   \n",
       "\n",
       "   pokemon_lendario pokemon_tipo_1_nome pokemon_tipo_2_nome  \n",
       "0             False               Grass              Poison  "
      ]
     },
     "execution_count": 18,
     "metadata": {},
     "output_type": "execute_result"
    }
   ],
   "source": [
    "# Para visualizar a tabela e o que são, na pratica, os dados, colunas e informações do DF antes do tratamento.\n",
    "\n",
    "df_pokemon_complete.head(1)"
   ]
  },
  {
   "cell_type": "markdown",
   "metadata": {},
   "source": [
    "##### 1) Verifique se há a necessidade de realizar algum tratamento na base de dados, caso julgue necessário realize o tratamento e comente no código o porquê de estar realizando determinada técnica de limpeza."
   ]
  },
  {
   "cell_type": "code",
   "execution_count": 19,
   "metadata": {},
   "outputs": [],
   "source": [
    "df_pokemon_complete.drop(['#'], axis=1, inplace=True)\n",
    "# Identifiquei que a coluna \"#\" não me retornava nenhuma informação passivel de analise. sua permanencia poderia mascarar dados duplicados, por isso exclui a coluna.\n",
    "\n",
    "df_pokemon_complete['pokemon_tipo_2_id'] = df_pokemon_complete['pokemon_tipo_2_id'].astype(np.int16)\n",
    "# Para facilitar as analises, transformei a coluna float64 em int16. Se fosse necessario,  poderia aplicar\n",
    "# essa mesma técnica em todas as colunas int64, mas vendo que a tabela é pequena, +- 49 KB, entendo não ser necessário, \n",
    "# se ela tivesse MBs ou apresentasse lentidão na execusão, faria essa alteração.\n",
    "\n",
    "df_pokemon_complete.drop_duplicates(keep='first', inplace=True)\n",
    "# Não tenho interesse em realizar as analises com dados duplicados, dessa forma já realizo essa busca e limpeza dos duplicates.\n"
   ]
  },
  {
   "cell_type": "code",
   "execution_count": 20,
   "metadata": {},
   "outputs": [
    {
     "name": "stdout",
     "output_type": "stream",
     "text": [
      "<class 'pandas.core.frame.DataFrame'>\n",
      "Int64Index: 414 entries, 0 to 413\n",
      "Data columns (total 14 columns):\n",
      " #   Column                   Non-Null Count  Dtype \n",
      "---  ------                   --------------  ----- \n",
      " 0   pokemon_nome             414 non-null    object\n",
      " 1   pokemon_tipo_1_id        414 non-null    int64 \n",
      " 2   pokemon_tipo_2_id        414 non-null    int16 \n",
      " 3   pokemon_total            414 non-null    int64 \n",
      " 4   pokemon_hp               414 non-null    int64 \n",
      " 5   pokemon_attack           414 non-null    int64 \n",
      " 6   pokemon_defense          414 non-null    int64 \n",
      " 7   pokemon_ataque_especial  414 non-null    int64 \n",
      " 8   pokemon_defesa_especial  414 non-null    int64 \n",
      " 9   pokemon_velocidade       414 non-null    int64 \n",
      " 10  pokemon_geracao          414 non-null    int64 \n",
      " 11  pokemon_lendario         414 non-null    bool  \n",
      " 12  pokemon_tipo_1_nome      414 non-null    object\n",
      " 13  pokemon_tipo_2_nome      414 non-null    object\n",
      "dtypes: bool(1), int16(1), int64(9), object(3)\n",
      "memory usage: 43.3+ KB\n"
     ]
    },
    {
     "data": {
      "text/plain": [
       "Index(['pokemon_nome', 'pokemon_tipo_1_id', 'pokemon_tipo_2_id',\n",
       "       'pokemon_total', 'pokemon_hp', 'pokemon_attack', 'pokemon_defense',\n",
       "       'pokemon_ataque_especial', 'pokemon_defesa_especial',\n",
       "       'pokemon_velocidade', 'pokemon_geracao', 'pokemon_lendario',\n",
       "       'pokemon_tipo_1_nome', 'pokemon_tipo_2_nome'],\n",
       "      dtype='object')"
      ]
     },
     "execution_count": 20,
     "metadata": {},
     "output_type": "execute_result"
    }
   ],
   "source": [
    "#Exibindo informações úteis após o tratamento. O info será útil para identificar e visualizar as alterações e o columns para saber o nome das colunas.\n",
    "\n",
    "df_pokemon_complete.info()\n",
    "\n",
    "df_pokemon_complete.columns"
   ]
  },
  {
   "cell_type": "code",
   "execution_count": 21,
   "metadata": {},
   "outputs": [
    {
     "data": {
      "text/html": [
       "<div>\n",
       "<style scoped>\n",
       "    .dataframe tbody tr th:only-of-type {\n",
       "        vertical-align: middle;\n",
       "    }\n",
       "\n",
       "    .dataframe tbody tr th {\n",
       "        vertical-align: top;\n",
       "    }\n",
       "\n",
       "    .dataframe thead th {\n",
       "        text-align: right;\n",
       "    }\n",
       "</style>\n",
       "<table border=\"1\" class=\"dataframe\">\n",
       "  <thead>\n",
       "    <tr style=\"text-align: right;\">\n",
       "      <th></th>\n",
       "      <th>pokemon_nome</th>\n",
       "      <th>pokemon_tipo_1_id</th>\n",
       "      <th>pokemon_tipo_2_id</th>\n",
       "      <th>pokemon_total</th>\n",
       "      <th>pokemon_hp</th>\n",
       "      <th>pokemon_attack</th>\n",
       "      <th>pokemon_defense</th>\n",
       "      <th>pokemon_ataque_especial</th>\n",
       "      <th>pokemon_defesa_especial</th>\n",
       "      <th>pokemon_velocidade</th>\n",
       "      <th>pokemon_geracao</th>\n",
       "      <th>pokemon_lendario</th>\n",
       "      <th>pokemon_tipo_1_nome</th>\n",
       "      <th>pokemon_tipo_2_nome</th>\n",
       "    </tr>\n",
       "  </thead>\n",
       "  <tbody>\n",
       "    <tr>\n",
       "      <th>0</th>\n",
       "      <td>Bulbasaur</td>\n",
       "      <td>10</td>\n",
       "      <td>14</td>\n",
       "      <td>318</td>\n",
       "      <td>45</td>\n",
       "      <td>49</td>\n",
       "      <td>49</td>\n",
       "      <td>65</td>\n",
       "      <td>65</td>\n",
       "      <td>45</td>\n",
       "      <td>1</td>\n",
       "      <td>False</td>\n",
       "      <td>Grass</td>\n",
       "      <td>Poison</td>\n",
       "    </tr>\n",
       "  </tbody>\n",
       "</table>\n",
       "</div>"
      ],
      "text/plain": [
       "  pokemon_nome  pokemon_tipo_1_id  pokemon_tipo_2_id  pokemon_total  \\\n",
       "0    Bulbasaur                 10                 14            318   \n",
       "\n",
       "   pokemon_hp  pokemon_attack  pokemon_defense  pokemon_ataque_especial  \\\n",
       "0          45              49               49                       65   \n",
       "\n",
       "   pokemon_defesa_especial  pokemon_velocidade  pokemon_geracao  \\\n",
       "0                       65                  45                1   \n",
       "\n",
       "   pokemon_lendario pokemon_tipo_1_nome pokemon_tipo_2_nome  \n",
       "0             False               Grass              Poison  "
      ]
     },
     "execution_count": 21,
     "metadata": {},
     "output_type": "execute_result"
    }
   ],
   "source": [
    "# Para visualizar a tabela e o que são, na pratica, os dados, colunas e informações do DF após o tratamento.\n",
    "df_pokemon_complete.head(1)"
   ]
  },
  {
   "cell_type": "markdown",
   "metadata": {},
   "source": [
    "##### 2) Procure os pokémons do tipo Grass que possuem mais de 100 de ataque e são da geração 3."
   ]
  },
  {
   "cell_type": "code",
   "execution_count": 22,
   "metadata": {},
   "outputs": [
    {
     "name": "stdout",
     "output_type": "stream",
     "text": [
      "Os pokémons do tipo Grass, que possuem mais de 100 de ataque e são da geração 3: \n",
      "\n",
      "         pokemon_nome pokemon_tipo_1_nome  pokemon_attack\n",
      "SceptileMega Sceptile               Grass             110\n",
      "             Cacturne               Grass             115\n",
      "              Breloom               Grass             130\n"
     ]
    }
   ],
   "source": [
    "# Estudei os dados, logo, sabendo a relação entre o tipo_1_id e o tipo_1_nome, irei farei a busca pelos ID, \n",
    "# com intuito de agilizar o processamento e usufruir das informações disponiveis. Grass == 10\n",
    "# Filtrei os pokémons utilizando o query(), depois apresentei o resultado, utilizei a função to_string(index = False) para remover o index da saída.\n",
    "\n",
    "df_pokemons_grass_attack_100_gen_3 = df_pokemon_complete.query('pokemon_tipo_1_id == 10 & pokemon_attack > 100 & pokemon_geracao == 3')\n",
    "\n",
    "print(f\"Os pokémons do tipo Grass, que possuem mais de 100 de ataque e são da geração 3: \\n\")\n",
    "\n",
    "print(df_pokemons_grass_attack_100_gen_3[['pokemon_nome','pokemon_tipo_1_nome','pokemon_attack']].to_string(index = False))"
   ]
  },
  {
   "cell_type": "markdown",
   "metadata": {},
   "source": [
    "##### 3) Faça um comparativo entre os tipos de pokémon e as gerações, evidencie em cada tipo quais gerações possuem mais de 50 pokémons. Dica: use pivoteamento."
   ]
  },
  {
   "cell_type": "code",
   "execution_count": 23,
   "metadata": {},
   "outputs": [
    {
     "data": {
      "text/html": [
       "<div>\n",
       "<style scoped>\n",
       "    .dataframe tbody tr th:only-of-type {\n",
       "        vertical-align: middle;\n",
       "    }\n",
       "\n",
       "    .dataframe tbody tr th {\n",
       "        vertical-align: top;\n",
       "    }\n",
       "\n",
       "    .dataframe thead th {\n",
       "        text-align: right;\n",
       "    }\n",
       "</style>\n",
       "<table border=\"1\" class=\"dataframe\">\n",
       "  <thead>\n",
       "    <tr style=\"text-align: right;\">\n",
       "      <th>pokemon_tipo_1_nome</th>\n",
       "      <th>Bug</th>\n",
       "      <th>Ghost</th>\n",
       "      <th>Rock</th>\n",
       "    </tr>\n",
       "    <tr>\n",
       "      <th>pokemon_geracao</th>\n",
       "      <th></th>\n",
       "      <th></th>\n",
       "      <th></th>\n",
       "    </tr>\n",
       "  </thead>\n",
       "  <tbody>\n",
       "    <tr>\n",
       "      <th>5</th>\n",
       "      <td>75</td>\n",
       "      <td>0</td>\n",
       "      <td>0</td>\n",
       "    </tr>\n",
       "    <tr>\n",
       "      <th>6</th>\n",
       "      <td>0</td>\n",
       "      <td>60</td>\n",
       "      <td>54</td>\n",
       "    </tr>\n",
       "  </tbody>\n",
       "</table>\n",
       "</div>"
      ],
      "text/plain": [
       "pokemon_tipo_1_nome  Bug  Ghost  Rock\n",
       "pokemon_geracao                      \n",
       "5                     75      0     0\n",
       "6                      0     60    54"
      ]
     },
     "execution_count": 23,
     "metadata": {},
     "output_type": "execute_result"
    }
   ],
   "source": [
    "# Criei a função more_fidty_pokemons, que, ao utilizada no aggfunc, recebpokemons_tipe_fire_grass e os valores da coluna informada. Ela realiza a soma e retorna os valores que são maiores de 50.\n",
    "# o pokemons_tipe_and_gen é um pivot_table, que traz uma tabela de fácil visualização, evidenciando os tipos e as gerações de pokémons que possuem mais de 50 individuos.\n",
    "\n",
    "def more_fifty_pokemons(values):\n",
    "    sum_values = values.sum()\n",
    "    if sum_values > 50:\n",
    "        return sum_values\n",
    "\n",
    "df_pokemons_tipe_and_gen = pd.pivot_table(df_pokemon_complete,\n",
    "    index=['pokemon_geracao'],  \n",
    "    columns=['pokemon_tipo_1_nome'],\n",
    "    aggfunc={'pokemon_geracao': more_fifty_pokemons},\n",
    "    fill_value =0\n",
    ")\n",
    "\n",
    "df_pokemons_tipe_and_gen['pokemon_geracao']"
   ]
  },
  {
   "cell_type": "markdown",
   "metadata": {},
   "source": [
    "##### 4) Faça um comparativo entre as gerações e a coluna de pokémons lendários para verificar quantos pokémons existem com velocidade acima de 85. Dica: use pivoteamento."
   ]
  },
  {
   "cell_type": "code",
   "execution_count": 24,
   "metadata": {},
   "outputs": [
    {
     "name": "stdout",
     "output_type": "stream",
     "text": [
      "pokemon_lendario  False  True\n",
      "pokemon_geracao              \n",
      "1                    21     3\n",
      "2                     9     2\n",
      "3                    12     8\n",
      "4                    21     5\n",
      "5                    21    13\n",
      "6                    10     3\n"
     ]
    }
   ],
   "source": [
    "# Para buscar quantos pokémons existem com velocidade a cima de 85, optei por filtrar meu df antes de criar o pivot_table, pegando somente os que me interessa.\n",
    "# Após, criei o pivot_table e apresentei a distribuição dos dados, apresentando a quantidade de pokémons com velocidade acima de 85, por geração e se é lendario ou não.\n",
    "\n",
    "# Adicionalmente ao desafio, apresentei uma análise comparando o resultado de df_pokemons_lendarios e df_pokemons_not_lendarios com os dados da tabela pivot:\n",
    "# Existe maior quantidade de pokémons rápidos não lendários que lendários, porém 85% dos pokemons lendários tem velocidade a cima de 85, quando 25% dos não lendários possuem tal velocidade.\n",
    "\n",
    "df_veloses_pokemon = df_pokemon_complete.query('pokemon_velocidade > 85')\n",
    "\n",
    "df_comparection_gen_and_legendary = pd.pivot_table(df_veloses_pokemon,\n",
    "    index=['pokemon_geracao'],  \n",
    "    columns=['pokemon_lendario'],\n",
    "    aggfunc={'pokemon_geracao': np.size},\n",
    ")\n",
    "\n",
    "print(df_comparection_gen_and_legendary['pokemon_geracao'])\n"
   ]
  },
  {
   "cell_type": "markdown",
   "metadata": {},
   "source": [
    "##### Adicional a questão 4:"
   ]
  },
  {
   "cell_type": "code",
   "execution_count": 25,
   "metadata": {},
   "outputs": [
    {
     "name": "stdout",
     "output_type": "stream",
     "text": [
      "\n",
      "Adicionalmente ao desafio apresento a sequinte conclusão:\n"
     ]
    },
    {
     "ename": "NameError",
     "evalue": "name 'df_pokemons_lendarios' is not defined",
     "output_type": "error",
     "traceback": [
      "\u001b[0;31m---------------------------------------------------------------------------\u001b[0m",
      "\u001b[0;31mNameError\u001b[0m                                 Traceback (most recent call last)",
      "\u001b[0;32m/tmp/ipykernel_25485/2047857536.py\u001b[0m in \u001b[0;36m<module>\u001b[0;34m\u001b[0m\n\u001b[1;32m      7\u001b[0m \u001b[0mnao_lendario\u001b[0m \u001b[0;34m=\u001b[0m \u001b[0;36m0\u001b[0m\u001b[0;34m\u001b[0m\u001b[0;34m\u001b[0m\u001b[0m\n\u001b[1;32m      8\u001b[0m \u001b[0;34m\u001b[0m\u001b[0m\n\u001b[0;32m----> 9\u001b[0;31m \u001b[0mtotal_pokemons\u001b[0m \u001b[0;34m=\u001b[0m \u001b[0mdf_pokemons_lendarios\u001b[0m \u001b[0;34m+\u001b[0m \u001b[0mdf_pokemons_not_lendarios\u001b[0m\u001b[0;34m\u001b[0m\u001b[0;34m\u001b[0m\u001b[0m\n\u001b[0m\u001b[1;32m     10\u001b[0m \u001b[0mtotal_pokemons_rapidos\u001b[0m \u001b[0;34m=\u001b[0m  \u001b[0mlendario\u001b[0m \u001b[0;34m+\u001b[0m \u001b[0mnao_lendario\u001b[0m\u001b[0;34m\u001b[0m\u001b[0;34m\u001b[0m\u001b[0m\n\u001b[1;32m     11\u001b[0m \u001b[0;34m\u001b[0m\u001b[0m\n",
      "\u001b[0;31mNameError\u001b[0m: name 'df_pokemons_lendarios' is not defined"
     ]
    }
   ],
   "source": [
    "print('\\nAdicionalmente ao desafio apresento a sequinte conclusão:')\n",
    "\n",
    "count_pokemons_lendarios =  df_pokemon_complete.query('pokemon_lendario == True').count()['pokemon_lendario']\n",
    "count_pokemons_not_lendarios =  df_pokemon_complete.query('pokemon_lendario == False').count()['pokemon_lendario']\n",
    "\n",
    "lendario = 0\n",
    "nao_lendario = 0\n",
    "\n",
    "total_pokemons = df_pokemons_lendarios + df_pokemons_not_lendarios\n",
    "total_pokemons_rapidos =  lendario + nao_lendario\n",
    "\n",
    "percent_total = (total_pokemons_rapidos * 100) / total_pokemons\n",
    "\n",
    "percent_lendarios = (lendario * 100) / count_pokemons_lendarios\n",
    "percent_nao_lendarios = (nao_lendario * 100) / count_pokemons_not_lendarios\n",
    "\n",
    "for i in df_veloses_lendary_pokemon['pokemon_lendario']:\n",
    "\n",
    "    if i == True:\n",
    "        lendario += 1\n",
    "    else:\n",
    "        nao_lendario += 1\n",
    "\n",
    "total_pokemons = df_pokemons_lendarios + df_pokemons_not_lendarios\n",
    "total_pokemons_rapidos =  lendario + nao_lendario\n",
    "\n",
    "percent_total = (total_pokemons_rapidos * 100) / total_pokemons\n",
    "\n",
    "percent_lendarios = (lendario * 100) / count_pokemons_lendarios\n",
    "percent_nao_lendarios = (nao_lendario * 100) / count_pokemons_not_lendarios\n",
    "\n",
    "print(f'\\nO total de pokémons é de {total_pokemons}, sendo que {total_pokemons_rapidos} deles tem velocidade maior que 85.')\n",
    "\n",
    "if lendario > nao_lendario:\n",
    "    print(f'\\n{lendario} são lendários e {nao_lendario} não lendários, existema mais pokémons lendários rápidos que não lendários.')\n",
    "else:\n",
    "    print(f'\\n{nao_lendario} não são lendários e {lendario} lendários, existem mais pokémons não lendários rápidos que lendários.')\n",
    "\n",
    "if percent_lendarios > percent_nao_lendarios:\n",
    "    print(f'Porém, {round(percent_lendarios,2)} % dos lendários possuem velocidade superior a 85, quando {round(percent_nao_lendarios, 2)} % dos não lendarios possui tal velocidade.')\n",
    "    print('\\nConclusão: Os pokémons lendarios são, em sua maioria, mais rápidos que os não lendários.')\n",
    "else:\n",
    "    print(f'E {round(percent_nao_lendarios, 2)} % dos não lendários possuem velocidade superior a 85, quando {round(percent_lendarios,2)} % dos lendarios possui tal velocidade.')\n",
    "    print('\\nConclusão: Os não lendários são mais rapidos até proporcionalmente.')"
   ]
  },
  {
   "cell_type": "markdown",
   "metadata": {},
   "source": [
    "##### 5) Plote um gráfico mostrando o valor somado da coluna pokemon_total por tipo de pokemon, contando apenas os pokemons que possuem defesa menor que 50."
   ]
  },
  {
   "cell_type": "code",
   "execution_count": null,
   "metadata": {},
   "outputs": [],
   "source": []
  },
  {
   "cell_type": "markdown",
   "metadata": {},
   "source": [
    "##### 6) Faça uma comparação entre pokemons do tipo fire e do tipo grass evidenciando qual tem mais defesa no total e qual tem mais ataque no total."
   ]
  },
  {
   "cell_type": "code",
   "execution_count": 75,
   "metadata": {},
   "outputs": [
    {
     "data": {
      "text/html": [
       "<div>\n",
       "<style scoped>\n",
       "    .dataframe tbody tr th:only-of-type {\n",
       "        vertical-align: middle;\n",
       "    }\n",
       "\n",
       "    .dataframe tbody tr th {\n",
       "        vertical-align: top;\n",
       "    }\n",
       "\n",
       "    .dataframe thead th {\n",
       "        text-align: right;\n",
       "    }\n",
       "</style>\n",
       "<table border=\"1\" class=\"dataframe\">\n",
       "  <thead>\n",
       "    <tr style=\"text-align: right;\">\n",
       "      <th></th>\n",
       "      <th></th>\n",
       "      <th>pokemon_attack</th>\n",
       "      <th>pokemon_defense</th>\n",
       "    </tr>\n",
       "    <tr>\n",
       "      <th>pokemon_tipo_1_nome</th>\n",
       "      <th>pokemon_nome</th>\n",
       "      <th></th>\n",
       "      <th></th>\n",
       "    </tr>\n",
       "  </thead>\n",
       "  <tbody>\n",
       "    <tr>\n",
       "      <th rowspan=\"5\" valign=\"top\">Fire</th>\n",
       "      <th>Blaziken</th>\n",
       "      <td>120</td>\n",
       "      <td>70</td>\n",
       "    </tr>\n",
       "    <tr>\n",
       "      <th>BlazikenMega Blaziken</th>\n",
       "      <td>160</td>\n",
       "      <td>80</td>\n",
       "    </tr>\n",
       "    <tr>\n",
       "      <th>Camerupt</th>\n",
       "      <td>100</td>\n",
       "      <td>70</td>\n",
       "    </tr>\n",
       "    <tr>\n",
       "      <th>CameruptMega Camerupt</th>\n",
       "      <td>120</td>\n",
       "      <td>100</td>\n",
       "    </tr>\n",
       "    <tr>\n",
       "      <th>Charizard</th>\n",
       "      <td>84</td>\n",
       "      <td>78</td>\n",
       "    </tr>\n",
       "    <tr>\n",
       "      <th>...</th>\n",
       "      <th>...</th>\n",
       "      <td>...</td>\n",
       "      <td>...</td>\n",
       "    </tr>\n",
       "    <tr>\n",
       "      <th rowspan=\"5\" valign=\"top\">Grass</th>\n",
       "      <th>Victreebel</th>\n",
       "      <td>105</td>\n",
       "      <td>65</td>\n",
       "    </tr>\n",
       "    <tr>\n",
       "      <th>Vileplume</th>\n",
       "      <td>80</td>\n",
       "      <td>85</td>\n",
       "    </tr>\n",
       "    <tr>\n",
       "      <th>Virizion</th>\n",
       "      <td>90</td>\n",
       "      <td>72</td>\n",
       "    </tr>\n",
       "    <tr>\n",
       "      <th>Weepinbell</th>\n",
       "      <td>90</td>\n",
       "      <td>50</td>\n",
       "    </tr>\n",
       "    <tr>\n",
       "      <th>Whimsicott</th>\n",
       "      <td>67</td>\n",
       "      <td>85</td>\n",
       "    </tr>\n",
       "  </tbody>\n",
       "</table>\n",
       "<p>61 rows × 2 columns</p>\n",
       "</div>"
      ],
      "text/plain": [
       "                                           pokemon_attack  pokemon_defense\n",
       "pokemon_tipo_1_nome pokemon_nome                                          \n",
       "Fire                Blaziken                          120               70\n",
       "                    BlazikenMega Blaziken             160               80\n",
       "                    Camerupt                          100               70\n",
       "                    CameruptMega Camerupt             120              100\n",
       "                    Charizard                          84               78\n",
       "...                                                   ...              ...\n",
       "Grass               Victreebel                        105               65\n",
       "                    Vileplume                          80               85\n",
       "                    Virizion                           90               72\n",
       "                    Weepinbell                         90               50\n",
       "                    Whimsicott                         67               85\n",
       "\n",
       "[61 rows x 2 columns]"
      ]
     },
     "execution_count": 75,
     "metadata": {},
     "output_type": "execute_result"
    }
   ],
   "source": [
    "df_fire_and_grass = df_pokemon_complete.query('pokemon_tipo_1_nome == \"Fire\" | pokemon_tipo_1_nome == \"Grass\"')\n",
    "\n",
    "pokemons_tipe_fire_grass  = pd.pivot_table(df_fire_and_grass,\n",
    "    index= ['pokemon_tipo_1_nome','pokemon_nome'],\n",
    "    # columns= ['pokemon_tipo_1_nome'],\n",
    "    aggfunc= {'pokemon_attack': max, 'pokemon_defense': max}\n",
    ")\n",
    "\n",
    "pokemons_tipe_fire_grass"
   ]
  },
  {
   "cell_type": "markdown",
   "metadata": {},
   "source": [
    "##### 7) Um treinador pokémon quer escolher um pokémon para a batalha. Faça uma análise para indicar o melhor pokemon possível para o embate.\n",
    "##### a) O adversário possui um pokémon do tipo Grass, e que esse tipo possui desvantagem sobre pokémons do tipo Bug, Fire, Flying, Ice e Poison.\n",
    "##### b) O pokémon deve ser no máximo da geração 3\n",
    "##### c) O ataque do pokémon deve ser menor ou igual a 100.\n",
    "##### d) A defesa deve ser maior que 30.\n",
    "##### e) O pokémon pode ter um tipo secundário que não influencia na regra a.\n",
    "##### f) O pokémon não pode ser lendário."
   ]
  },
  {
   "cell_type": "code",
   "execution_count": null,
   "metadata": {},
   "outputs": [],
   "source": []
  }
 ],
 "metadata": {
  "kernelspec": {
   "display_name": "Python 3.10.6 64-bit",
   "language": "python",
   "name": "python3"
  },
  "language_info": {
   "codemirror_mode": {
    "name": "ipython",
    "version": 3
   },
   "file_extension": ".py",
   "mimetype": "text/x-python",
   "name": "python",
   "nbconvert_exporter": "python",
   "pygments_lexer": "ipython3",
   "version": "3.10.6"
  },
  "orig_nbformat": 4,
  "vscode": {
   "interpreter": {
    "hash": "31f2aee4e71d21fbe5cf8b01ff0e069b9275f58929596ceb00d14d90e3e16cd6"
   }
  }
 },
 "nbformat": 4,
 "nbformat_minor": 2
}
