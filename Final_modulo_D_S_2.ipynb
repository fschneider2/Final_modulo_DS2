{
 "cells": [
  {
   "cell_type": "code",
   "execution_count": 2,
   "metadata": {},
   "outputs": [],
   "source": [
    "import pandas as pd \n",
    "import numpy as np \n",
    "import matplotlib.pyplot as plt\n"
   ]
  },
  {
   "cell_type": "code",
   "execution_count": 3,
   "metadata": {},
   "outputs": [],
   "source": [
    "df_pokemon = pd.read_csv('pokemon.csv')\n",
    "\n",
    "df_pokemon_tipos_1 = pd.read_csv('pokemon_tipos_1.csv')\n",
    "\n",
    "df_pokemon_tipos_2 = pd.read_csv('pokemon_tipos_2.csv')\n"
   ]
  },
  {
   "cell_type": "code",
   "execution_count": 4,
   "metadata": {},
   "outputs": [
    {
     "name": "stdout",
     "output_type": "stream",
     "text": [
      "<class 'pandas.core.frame.DataFrame'>\n",
      "RangeIndex: 800 entries, 0 to 799\n",
      "Data columns (total 13 columns):\n",
      " #   Column                   Non-Null Count  Dtype  \n",
      "---  ------                   --------------  -----  \n",
      " 0   #                        800 non-null    int64  \n",
      " 1   pokemon_nome             800 non-null    object \n",
      " 2   pokemon_tipo_1_id        800 non-null    int64  \n",
      " 3   pokemon_tipo_2_id        414 non-null    float64\n",
      " 4   pokemon_total            800 non-null    int64  \n",
      " 5   pokemon_hp               800 non-null    int64  \n",
      " 6   pokemon_attack           800 non-null    int64  \n",
      " 7   pokemon_defense          800 non-null    int64  \n",
      " 8   pokemon_ataque_especial  800 non-null    int64  \n",
      " 9   pokemon_defesa_especial  800 non-null    int64  \n",
      " 10  pokemon_velocidade       800 non-null    int64  \n",
      " 11  pokemon_geracao          800 non-null    int64  \n",
      " 12  pokemon_lendario         800 non-null    bool   \n",
      "dtypes: bool(1), float64(1), int64(10), object(1)\n",
      "memory usage: 75.9+ KB\n"
     ]
    }
   ],
   "source": [
    "df_pokemon.info()"
   ]
  },
  {
   "cell_type": "markdown",
   "metadata": {},
   "source": [
    "##### 1) Verifique se há a necessidade de realizar algum tratamento na base de dados, caso julgue necessário realize o tratamento e comente no código o porquê de estar realizando determinada técnica de limpeza."
   ]
  },
  {
   "cell_type": "code",
   "execution_count": 5,
   "metadata": {},
   "outputs": [],
   "source": [
    "# Ao analisar a df_pokemon.info(), identifiquei a falta de dados na coluna pokemons_tipo_2_id, como tenho interesse de fazer um merge, e utilizar \n",
    "# todas as informações disponiveis, fiz o tratamento, incluindo o número 0 a todas as colunas que não possuam informação, inclui o 0 também no DF tipo_2, \n",
    "# com o nome de Desc, assim, caso necessário, poderei identificar quais são os pokémons sem tipo_2_id, entendo que essa seja a melhor alternativa,\n",
    "# até para uma manutenção, caso eu consiga os dados reais.\n",
    "\n",
    "df_pokemon_tipos_2.loc[-1] = [0,'Desc']\n",
    "\n",
    "df_pokemon['pokemon_tipo_2_id'].fillna(0, inplace= True) \n",
    "\n",
    "# Uma alternativa seria a função abaixo\n",
    "# incluindo as informações da coluna pokemon_tipo_1_id na 2, quando esta esta vazia. Para isso utilizei a função\n",
    "# modify_pokemon_type_2_NaN, adaptei ela de uma que o colega Diego utilizou. \n",
    "\n",
    "# def modify_pokemon_type_2_NaN(value):\n",
    "\n",
    "#   if np.isnan(value['pokemon_tipo_2_id']): \n",
    "\n",
    "#      value['pokemon_tipo_2_id'] = value['pokemon_tipo_1_id']\n",
    "\n",
    "#   return (value['pokemon_tipo_1_id'])\n",
    "\n",
    "# df_pokemon['pokemon_tipo_2_id'] = df_pokemon[['pokemon_tipo_1_id','pokemon_tipo_2_id']].apply(modify_pokemon_type_2_NaN, axis= 1)\n"
   ]
  },
  {
   "cell_type": "code",
   "execution_count": 6,
   "metadata": {},
   "outputs": [],
   "source": [
    "# Por ser um a base de dados pequena, optei por trabalhar com todos os dados disponibilizados, para isso, meu DF principal será a junção dos 3.\n",
    "\n",
    "df_pokemon_complete = df_pokemon.merge(df_pokemon_tipos_1).merge(df_pokemon_tipos_2)"
   ]
  },
  {
   "cell_type": "code",
   "execution_count": 7,
   "metadata": {},
   "outputs": [
    {
     "name": "stdout",
     "output_type": "stream",
     "text": [
      "<class 'pandas.core.frame.DataFrame'>\n",
      "Int64Index: 800 entries, 0 to 799\n",
      "Data columns (total 15 columns):\n",
      " #   Column                   Non-Null Count  Dtype  \n",
      "---  ------                   --------------  -----  \n",
      " 0   #                        800 non-null    int64  \n",
      " 1   pokemon_nome             800 non-null    object \n",
      " 2   pokemon_tipo_1_id        800 non-null    int64  \n",
      " 3   pokemon_tipo_2_id        800 non-null    float64\n",
      " 4   pokemon_total            800 non-null    int64  \n",
      " 5   pokemon_hp               800 non-null    int64  \n",
      " 6   pokemon_attack           800 non-null    int64  \n",
      " 7   pokemon_defense          800 non-null    int64  \n",
      " 8   pokemon_ataque_especial  800 non-null    int64  \n",
      " 9   pokemon_defesa_especial  800 non-null    int64  \n",
      " 10  pokemon_velocidade       800 non-null    int64  \n",
      " 11  pokemon_geracao          800 non-null    int64  \n",
      " 12  pokemon_lendario         800 non-null    bool   \n",
      " 13  pokemon_tipo_1_nome      800 non-null    object \n",
      " 14  pokemon_tipo_2_nome      800 non-null    object \n",
      "dtypes: bool(1), float64(1), int64(10), object(3)\n",
      "memory usage: 94.5+ KB\n"
     ]
    },
    {
     "data": {
      "text/plain": [
       "Index(['#', 'pokemon_nome', 'pokemon_tipo_1_id', 'pokemon_tipo_2_id',\n",
       "       'pokemon_total', 'pokemon_hp', 'pokemon_attack', 'pokemon_defense',\n",
       "       'pokemon_ataque_especial', 'pokemon_defesa_especial',\n",
       "       'pokemon_velocidade', 'pokemon_geracao', 'pokemon_lendario',\n",
       "       'pokemon_tipo_1_nome', 'pokemon_tipo_2_nome'],\n",
       "      dtype='object')"
      ]
     },
     "execution_count": 7,
     "metadata": {},
     "output_type": "execute_result"
    }
   ],
   "source": [
    "# Exibindo informações úteis antes do tratamento dos dados. O info() será útil para analizar os tratamentos necessários..\n",
    "\n",
    "df_pokemon_complete.info()\n",
    "\n",
    "df_pokemon_complete.columns"
   ]
  },
  {
   "cell_type": "code",
   "execution_count": 8,
   "metadata": {},
   "outputs": [],
   "source": [
    "df_pokemon_complete.drop(['#'], axis=1, inplace=True)\n",
    "# Identifiquei que a coluna \"#\" não me retornava nenhuma informação passivel útil. sua permanencia poderia mascarar dados duplicados, por isso exclui a coluna.\n",
    "\n",
    "df_pokemon_complete['pokemon_tipo_2_id'] = df_pokemon_complete['pokemon_tipo_2_id'].astype(np.int16)\n",
    "# Para facilitar as analises, transformei a coluna float64 em int16. Se fosse necessario,  poderia aplicar\n",
    "# essa mesma técnica em todas as colunas int64, mas vendo que a tabela é pequena, +- 94 KB, entendo não ser necessário, \n",
    "# se ela tivesse MBs ou apresentasse lentidão na execusão, faria essa alteração.\n",
    "\n",
    "df_pokemon_complete.drop_duplicates(keep='first', inplace=True)\n",
    "# Não tenho interesse em realizar as analises com dados duplicados, dessa forma já realizo essa busca e limpeza dos duplicates."
   ]
  },
  {
   "cell_type": "code",
   "execution_count": 9,
   "metadata": {},
   "outputs": [
    {
     "name": "stdout",
     "output_type": "stream",
     "text": [
      "<class 'pandas.core.frame.DataFrame'>\n",
      "Int64Index: 800 entries, 0 to 799\n",
      "Data columns (total 14 columns):\n",
      " #   Column                   Non-Null Count  Dtype \n",
      "---  ------                   --------------  ----- \n",
      " 0   pokemon_nome             800 non-null    object\n",
      " 1   pokemon_tipo_1_id        800 non-null    int64 \n",
      " 2   pokemon_tipo_2_id        800 non-null    int16 \n",
      " 3   pokemon_total            800 non-null    int64 \n",
      " 4   pokemon_hp               800 non-null    int64 \n",
      " 5   pokemon_attack           800 non-null    int64 \n",
      " 6   pokemon_defense          800 non-null    int64 \n",
      " 7   pokemon_ataque_especial  800 non-null    int64 \n",
      " 8   pokemon_defesa_especial  800 non-null    int64 \n",
      " 9   pokemon_velocidade       800 non-null    int64 \n",
      " 10  pokemon_geracao          800 non-null    int64 \n",
      " 11  pokemon_lendario         800 non-null    bool  \n",
      " 12  pokemon_tipo_1_nome      800 non-null    object\n",
      " 13  pokemon_tipo_2_nome      800 non-null    object\n",
      "dtypes: bool(1), int16(1), int64(9), object(3)\n",
      "memory usage: 83.6+ KB\n"
     ]
    },
    {
     "data": {
      "text/plain": [
       "Index(['pokemon_nome', 'pokemon_tipo_1_id', 'pokemon_tipo_2_id',\n",
       "       'pokemon_total', 'pokemon_hp', 'pokemon_attack', 'pokemon_defense',\n",
       "       'pokemon_ataque_especial', 'pokemon_defesa_especial',\n",
       "       'pokemon_velocidade', 'pokemon_geracao', 'pokemon_lendario',\n",
       "       'pokemon_tipo_1_nome', 'pokemon_tipo_2_nome'],\n",
       "      dtype='object')"
      ]
     },
     "execution_count": 9,
     "metadata": {},
     "output_type": "execute_result"
    }
   ],
   "source": [
    "#Exibindo informações úteis após o tratamento. O info será útil para identificar e visualizar as alterações.\n",
    "\n",
    "df_pokemon_complete.info()\n",
    "\n",
    "df_pokemon_complete.columns"
   ]
  },
  {
   "cell_type": "code",
   "execution_count": 10,
   "metadata": {},
   "outputs": [
    {
     "data": {
      "text/html": [
       "<div>\n",
       "<style scoped>\n",
       "    .dataframe tbody tr th:only-of-type {\n",
       "        vertical-align: middle;\n",
       "    }\n",
       "\n",
       "    .dataframe tbody tr th {\n",
       "        vertical-align: top;\n",
       "    }\n",
       "\n",
       "    .dataframe thead th {\n",
       "        text-align: right;\n",
       "    }\n",
       "</style>\n",
       "<table border=\"1\" class=\"dataframe\">\n",
       "  <thead>\n",
       "    <tr style=\"text-align: right;\">\n",
       "      <th></th>\n",
       "      <th>pokemon_nome</th>\n",
       "      <th>pokemon_tipo_1_id</th>\n",
       "      <th>pokemon_tipo_2_id</th>\n",
       "      <th>pokemon_total</th>\n",
       "      <th>pokemon_hp</th>\n",
       "      <th>pokemon_attack</th>\n",
       "      <th>pokemon_defense</th>\n",
       "      <th>pokemon_ataque_especial</th>\n",
       "      <th>pokemon_defesa_especial</th>\n",
       "      <th>pokemon_velocidade</th>\n",
       "      <th>pokemon_geracao</th>\n",
       "      <th>pokemon_lendario</th>\n",
       "      <th>pokemon_tipo_1_nome</th>\n",
       "      <th>pokemon_tipo_2_nome</th>\n",
       "    </tr>\n",
       "  </thead>\n",
       "  <tbody>\n",
       "    <tr>\n",
       "      <th>0</th>\n",
       "      <td>Bulbasaur</td>\n",
       "      <td>10</td>\n",
       "      <td>14</td>\n",
       "      <td>318</td>\n",
       "      <td>45</td>\n",
       "      <td>49</td>\n",
       "      <td>49</td>\n",
       "      <td>65</td>\n",
       "      <td>65</td>\n",
       "      <td>45</td>\n",
       "      <td>1</td>\n",
       "      <td>False</td>\n",
       "      <td>Grass</td>\n",
       "      <td>Poison</td>\n",
       "    </tr>\n",
       "  </tbody>\n",
       "</table>\n",
       "</div>"
      ],
      "text/plain": [
       "  pokemon_nome  pokemon_tipo_1_id  pokemon_tipo_2_id  pokemon_total  \\\n",
       "0    Bulbasaur                 10                 14            318   \n",
       "\n",
       "   pokemon_hp  pokemon_attack  pokemon_defense  pokemon_ataque_especial  \\\n",
       "0          45              49               49                       65   \n",
       "\n",
       "   pokemon_defesa_especial  pokemon_velocidade  pokemon_geracao  \\\n",
       "0                       65                  45                1   \n",
       "\n",
       "   pokemon_lendario pokemon_tipo_1_nome pokemon_tipo_2_nome  \n",
       "0             False               Grass              Poison  "
      ]
     },
     "execution_count": 10,
     "metadata": {},
     "output_type": "execute_result"
    }
   ],
   "source": [
    "# Para visualizar a tabela e o que são, na pratica, os dados, colunas e informações do DF após o tratamento.\n",
    "\n",
    "df_pokemon_complete.head(1)"
   ]
  },
  {
   "cell_type": "markdown",
   "metadata": {},
   "source": [
    "##### 2) Procure os pokémons do tipo Grass que possuem mais de 100 de ataque e são da geração 3."
   ]
  },
  {
   "cell_type": "code",
   "execution_count": 11,
   "metadata": {},
   "outputs": [
    {
     "name": "stdout",
     "output_type": "stream",
     "text": [
      "Os pokémons do tipo Grass, que possuem mais de 100 de ataque e são da geração 3: \n",
      "\n",
      "         pokemon_nome pokemon_tipo_1_nome  pokemon_attack\n",
      "SceptileMega Sceptile               Grass             110\n",
      "             Cacturne               Grass             115\n",
      "              Breloom               Grass             130\n"
     ]
    }
   ],
   "source": [
    "# Estudei os dados, logo, sabendo a relação entre o tipo_1_id e o tipo_1_nome, irei farei a busca pelos ID, \n",
    "# com intuito de agilizar o processamento e usufruir das informações disponiveis. Grass == 10\n",
    "# Filtrei os pokémons utilizando o query(), depois apresentei o resultado, utilizei a função to_string(index = False) para remover o index da saída.\n",
    "\n",
    "df_pokemons_grass_attack_100_gen_3 = df_pokemon_complete.query('pokemon_tipo_1_id == 10 & pokemon_attack > 100 & pokemon_geracao == 3')\n",
    "\n",
    "print(f\"Os pokémons do tipo Grass, que possuem mais de 100 de ataque e são da geração 3: \\n\")\n",
    "\n",
    "print(df_pokemons_grass_attack_100_gen_3[['pokemon_nome','pokemon_tipo_1_nome','pokemon_attack']].to_string(index = False))\n"
   ]
  },
  {
   "cell_type": "markdown",
   "metadata": {},
   "source": [
    "##### 3) Faça um comparativo entre os tipos de pokémon e as gerações, evidencie em cada tipo quais gerações possuem mais de 50 pokémons. Dica: use pivoteamento."
   ]
  },
  {
   "cell_type": "code",
   "execution_count": 12,
   "metadata": {},
   "outputs": [
    {
     "data": {
      "text/html": [
       "<div>\n",
       "<style scoped>\n",
       "    .dataframe tbody tr th:only-of-type {\n",
       "        vertical-align: middle;\n",
       "    }\n",
       "\n",
       "    .dataframe tbody tr th {\n",
       "        vertical-align: top;\n",
       "    }\n",
       "\n",
       "    .dataframe thead th {\n",
       "        text-align: right;\n",
       "    }\n",
       "</style>\n",
       "<table border=\"1\" class=\"dataframe\">\n",
       "  <thead>\n",
       "    <tr style=\"text-align: right;\">\n",
       "      <th>pokemon_geracao</th>\n",
       "      <th>3</th>\n",
       "      <th>4</th>\n",
       "      <th>5</th>\n",
       "      <th>6</th>\n",
       "    </tr>\n",
       "    <tr>\n",
       "      <th>pokemon_tipo_1_nome</th>\n",
       "      <th></th>\n",
       "      <th></th>\n",
       "      <th></th>\n",
       "      <th></th>\n",
       "    </tr>\n",
       "  </thead>\n",
       "  <tbody>\n",
       "    <tr>\n",
       "      <th>Bug</th>\n",
       "      <td>0</td>\n",
       "      <td>0</td>\n",
       "      <td>90</td>\n",
       "      <td>0</td>\n",
       "    </tr>\n",
       "    <tr>\n",
       "      <th>Dark</th>\n",
       "      <td>0</td>\n",
       "      <td>0</td>\n",
       "      <td>65</td>\n",
       "      <td>0</td>\n",
       "    </tr>\n",
       "    <tr>\n",
       "      <th>Fairy</th>\n",
       "      <td>0</td>\n",
       "      <td>0</td>\n",
       "      <td>0</td>\n",
       "      <td>54</td>\n",
       "    </tr>\n",
       "    <tr>\n",
       "      <th>Ghost</th>\n",
       "      <td>0</td>\n",
       "      <td>0</td>\n",
       "      <td>0</td>\n",
       "      <td>60</td>\n",
       "    </tr>\n",
       "    <tr>\n",
       "      <th>Grass</th>\n",
       "      <td>0</td>\n",
       "      <td>60</td>\n",
       "      <td>75</td>\n",
       "      <td>0</td>\n",
       "    </tr>\n",
       "    <tr>\n",
       "      <th>Normal</th>\n",
       "      <td>54</td>\n",
       "      <td>72</td>\n",
       "      <td>95</td>\n",
       "      <td>0</td>\n",
       "    </tr>\n",
       "    <tr>\n",
       "      <th>Psychic</th>\n",
       "      <td>0</td>\n",
       "      <td>0</td>\n",
       "      <td>70</td>\n",
       "      <td>0</td>\n",
       "    </tr>\n",
       "    <tr>\n",
       "      <th>Rock</th>\n",
       "      <td>0</td>\n",
       "      <td>0</td>\n",
       "      <td>0</td>\n",
       "      <td>54</td>\n",
       "    </tr>\n",
       "    <tr>\n",
       "      <th>Water</th>\n",
       "      <td>81</td>\n",
       "      <td>52</td>\n",
       "      <td>90</td>\n",
       "      <td>0</td>\n",
       "    </tr>\n",
       "  </tbody>\n",
       "</table>\n",
       "</div>"
      ],
      "text/plain": [
       "pokemon_geracao       3   4   5   6\n",
       "pokemon_tipo_1_nome                \n",
       "Bug                   0   0  90   0\n",
       "Dark                  0   0  65   0\n",
       "Fairy                 0   0   0  54\n",
       "Ghost                 0   0   0  60\n",
       "Grass                 0  60  75   0\n",
       "Normal               54  72  95   0\n",
       "Psychic               0   0  70   0\n",
       "Rock                  0   0   0  54\n",
       "Water                81  52  90   0"
      ]
     },
     "execution_count": 12,
     "metadata": {},
     "output_type": "execute_result"
    }
   ],
   "source": [
    "# Criei a função more_fidty_pokemons, que, ao utilizada no aggfunc, recebe pokemons_tipe_fire_grass e os valores da coluna informada. \n",
    "# Ela realiza a soma e retorna os valores que são maiores de 50.O pokemons_tipe_and_gen é um pivot_table, que traz uma tabela de fácil visualização, \n",
    "# evidenciando os tipos e as gerações de pokémons que possuem mais de 50 individuos.\n",
    "\n",
    "def more_fifty_pokemons(values):\n",
    "    sum_values = values.sum()\n",
    "    if sum_values > 50:\n",
    "        return sum_values\n",
    "\n",
    "df_pokemons_tipe_and_gen = pd.pivot_table(df_pokemon_complete,\n",
    "    index=['pokemon_tipo_1_nome'],  \n",
    "    columns=['pokemon_geracao'],\n",
    "    aggfunc={'pokemon_geracao': more_fifty_pokemons},\n",
    "    fill_value =0\n",
    ")\n",
    "\n",
    "df_pokemons_tipe_and_gen['pokemon_geracao']"
   ]
  },
  {
   "cell_type": "markdown",
   "metadata": {},
   "source": [
    "##### 4) Faça um comparativo entre as gerações e a coluna de pokémons lendários para verificar quantos pokémons existem com velocidade acima de 85. Dica: use pivoteamento."
   ]
  },
  {
   "cell_type": "code",
   "execution_count": 13,
   "metadata": {},
   "outputs": [
    {
     "name": "stdout",
     "output_type": "stream",
     "text": [
      "pokemon_lendario  False  True\n",
      "pokemon_geracao              \n",
      "1                    49     5\n",
      "2                    14     4\n",
      "3                    25    15\n",
      "4                    32    11\n",
      "5                    37    15\n",
      "6                    14     4\n"
     ]
    }
   ],
   "source": [
    "# Para buscar quantos pokémons existem com velocidade a cima de 85, optei por filtrar meu df antes de criar o pivot_table, pegando somente os que me interessa.\n",
    "# Após, criei o pivot_table e apresentei a distribuição dos dados, apresentando a quantidade de pokémons com velocidade acima de 85, por geração e se é lendario ou não.\n",
    "\n",
    "df_veloses_pokemon = df_pokemon_complete.query('pokemon_velocidade > 85')\n",
    "\n",
    "df_comparection_gen_and_legendary = pd.pivot_table(df_veloses_pokemon,\n",
    "    index=['pokemon_geracao'],  \n",
    "    columns=['pokemon_lendario'],\n",
    "    aggfunc={'pokemon_geracao': np.size},\n",
    ")\n",
    "\n",
    "print(df_comparection_gen_and_legendary['pokemon_geracao'])\n"
   ]
  },
  {
   "cell_type": "markdown",
   "metadata": {},
   "source": [
    "##### Adicional a questão 4:"
   ]
  },
  {
   "cell_type": "code",
   "execution_count": 14,
   "metadata": {},
   "outputs": [
    {
     "name": "stdout",
     "output_type": "stream",
     "text": [
      "\n",
      "Adicionalmente ao desafio apresento a sequinte conclusão:\n",
      "\n",
      "O total de pokémons é de 800, sendo que 225 deles tem velocidade maior que 85.\n",
      "\n",
      "171 não são lendários e 54 lendários, existem mais pokémons não lendários rápidos que lendários.\n",
      "Porém, 83.08 % dos lendários possuem velocidade superior a 85, quando 23.27 % dos não lendarios possui tal velocidade.\n",
      "\n",
      "Conclusão: Os pokémons lendarios são, em sua maioria, mais rápidos que os não lendários.\n"
     ]
    }
   ],
   "source": [
    "# Este trecho de código traz uma comparação associada a questão 4, com a intenção de trazer uma conclusão sobre os dados apresentados, \n",
    "# é curta, mais serve de exemplo para demonstrar minha evolução na linguagem Python.\n",
    "\n",
    "print('\\nAdicionalmente ao desafio apresento a sequinte conclusão:')\n",
    "\n",
    "count_pokemons_lendarios =  df_pokemon_complete.query('pokemon_lendario == True').count()['pokemon_lendario']\n",
    "count_pokemons_not_lendarios =  df_pokemon_complete.query('pokemon_lendario == False').count()['pokemon_lendario']\n",
    "\n",
    "lendario = 0\n",
    "nao_lendario = 0\n",
    "\n",
    "total_pokemons = count_pokemons_lendarios + count_pokemons_not_lendarios\n",
    "total_pokemons_rapidos =  lendario + nao_lendario\n",
    "\n",
    "percent_total = (total_pokemons_rapidos * 100) / total_pokemons\n",
    "\n",
    "percent_lendarios = (lendario * 100) / count_pokemons_lendarios\n",
    "percent_nao_lendarios = (nao_lendario * 100) / count_pokemons_not_lendarios\n",
    "\n",
    "for i in df_veloses_pokemon['pokemon_lendario']:\n",
    "\n",
    "    if i == True:\n",
    "        lendario += 1\n",
    "    else:\n",
    "        nao_lendario += 1\n",
    "\n",
    "total_pokemons = count_pokemons_lendarios + count_pokemons_not_lendarios\n",
    "total_pokemons_rapidos =  lendario + nao_lendario\n",
    "\n",
    "percent_total = (total_pokemons_rapidos * 100) / total_pokemons\n",
    "\n",
    "percent_lendarios = (lendario * 100) / count_pokemons_lendarios\n",
    "percent_nao_lendarios = (nao_lendario * 100) / count_pokemons_not_lendarios\n",
    "\n",
    "print(f'\\nO total de pokémons é de {total_pokemons}, sendo que {total_pokemons_rapidos} deles tem velocidade maior que 85.')\n",
    "\n",
    "if lendario > nao_lendario:\n",
    "    print(f'\\n{lendario} são lendários e {nao_lendario} não lendários, existema mais pokémons lendários rápidos que não lendários.')\n",
    "else:\n",
    "    print(f'\\n{nao_lendario} não são lendários e {lendario} lendários, existem mais pokémons não lendários rápidos que lendários.')\n",
    "\n",
    "if percent_lendarios > percent_nao_lendarios:\n",
    "    print(f'Porém, {round(percent_lendarios,2)} % dos lendários possuem velocidade superior a 85, quando {round(percent_nao_lendarios, 2)} % dos não lendarios possui tal velocidade.')\n",
    "    print('\\nConclusão: Os pokémons lendarios são, em sua maioria, mais rápidos que os não lendários.')\n",
    "else:\n",
    "    print(f'E {round(percent_nao_lendarios, 2)} % dos não lendários possuem velocidade superior a 85, quando {round(percent_lendarios,2)} % dos lendarios possui tal velocidade.')\n",
    "    print('\\nConclusão: Os não lendários são mais rapidos até proporcionalmente.')"
   ]
  },
  {
   "cell_type": "markdown",
   "metadata": {},
   "source": [
    "##### 5) Plote um gráfico mostrando o valor somado da coluna pokemon_total por tipo de pokemon, contando apenas os pokemons que possuem defesa menor que 50."
   ]
  },
  {
   "cell_type": "code",
   "execution_count": 76,
   "metadata": {},
   "outputs": [
    {
     "data": {
      "image/png": "[encoded data removed]",
      "text/plain": [
       "<Figure size 1120x560 with 1 Axes>"
      ]
     },
     "metadata": {},
     "output_type": "display_data"
    }
   ],
   "source": [
    "# Para o gráfico, optei por fazer uma query, filtrando os de defesa menor que 50, em seguida fiz um pivot_table para preparar os dados.\n",
    "df_defense_less_than_50 = df_pokemon_complete.query('pokemon_defense < 50')\n",
    "\n",
    "grafic_question_5 = pd.pivot_table(df_defense_less_than_50,\n",
    "    index=['pokemon_tipo_1_nome'],  \n",
    "    aggfunc={'pokemon_total': np.sum}\n",
    ")\n",
    "\n",
    "# para o gráfico, utilizei diversas configurações, como já repeti este exercício algumas vezes, sendo facil executar,\n",
    "# procurei trabalhar nas config. da plotagem. Como style, cor, cor da borda, tamanhos de borda, letra, das colunas, etc.\n",
    "\n",
    "plt.style.use(\"seaborn-darkgrid\")\n",
    "grafic_question_5.plot( kind='bar', color=\"darkcyan\", ec= \"k\", fontsize= 12, figsize = (14,7),alpha= .9, width= .8, linewidth= 0.9)\n",
    "plt.title(\"Tipos de pokémons e seu poder, considerado pokémons com defesa menor que 50.\")\n",
    "plt.xlabel(\"Tipos de pokémons\")\n",
    "plt.ylabel(\"Soma do valor total de seus integrantes\")\n",
    "plt.show()"
   ]
  },
  {
   "cell_type": "markdown",
   "metadata": {},
   "source": [
    "##### 6) Faça uma comparação entre pokemons do tipo fire e do tipo grass evidenciando qual tem mais defesa no total e qual tem mais ataque no total."
   ]
  },
  {
   "cell_type": "code",
   "execution_count": 16,
   "metadata": {},
   "outputs": [
    {
     "name": "stdout",
     "output_type": "stream",
     "text": [
      "Compartivo entre pokémons do tipo Fire e Grass, apresentando a soma dos valores de ataque e defesa.\n"
     ]
    },
    {
     "data": {
      "text/html": [
       "<div>\n",
       "<style scoped>\n",
       "    .dataframe tbody tr th:only-of-type {\n",
       "        vertical-align: middle;\n",
       "    }\n",
       "\n",
       "    .dataframe tbody tr th {\n",
       "        vertical-align: top;\n",
       "    }\n",
       "\n",
       "    .dataframe thead th {\n",
       "        text-align: right;\n",
       "    }\n",
       "</style>\n",
       "<table border=\"1\" class=\"dataframe\">\n",
       "  <thead>\n",
       "    <tr style=\"text-align: right;\">\n",
       "      <th></th>\n",
       "      <th>pokemon_attack</th>\n",
       "      <th>pokemon_defense</th>\n",
       "    </tr>\n",
       "    <tr>\n",
       "      <th>pokemon_tipo_1_nome</th>\n",
       "      <th></th>\n",
       "      <th></th>\n",
       "    </tr>\n",
       "  </thead>\n",
       "  <tbody>\n",
       "    <tr>\n",
       "      <th>Fire</th>\n",
       "      <td>4408</td>\n",
       "      <td>3524</td>\n",
       "    </tr>\n",
       "    <tr>\n",
       "      <th>Grass</th>\n",
       "      <td>5125</td>\n",
       "      <td>4956</td>\n",
       "    </tr>\n",
       "  </tbody>\n",
       "</table>\n",
       "</div>"
      ],
      "text/plain": [
       "                     pokemon_attack  pokemon_defense\n",
       "pokemon_tipo_1_nome                                 \n",
       "Fire                           4408             3524\n",
       "Grass                          5125             4956"
      ]
     },
     "metadata": {},
     "output_type": "display_data"
    }
   ],
   "source": [
    "# Iniciei realizando a filtragem dos dados, com o query, após realizei duas demonstrações, 1° uma Comparação simples, utilizando o pivot_table \n",
    "# para demonstrar a soma dos valores correspondentes a ataque e defesa. 2° Uma filtragem de dados, utilizando funções pandas, com a intenção de \n",
    "# apresentar os pokémons com mais ataque e mais defesa dentre os dois tipos.\n",
    "\n",
    "df_fire_and_grass = df_pokemon_complete.query('pokemon_tipo_1_nome == \"Fire\" | pokemon_tipo_1_nome == \"Grass\"')\n",
    "\n",
    "pokemons_tipe_fire_grass  = pd.pivot_table(df_fire_and_grass,\n",
    "    index= ['pokemon_tipo_1_nome'],\n",
    "    aggfunc= {'pokemon_attack': np.sum,'pokemon_defense': np.sum}\n",
    ")\n",
    "\n",
    "print('Compartivo entre pokémons do tipo Fire e Grass, apresentando a soma dos valores de ataque e defesa.')\n",
    "\n",
    "display(pokemons_tipe_fire_grass)"
   ]
  },
  {
   "cell_type": "markdown",
   "metadata": {},
   "source": [
    "##### Parte 2, Questão 6"
   ]
  },
  {
   "cell_type": "code",
   "execution_count": 17,
   "metadata": {},
   "outputs": [
    {
     "name": "stdout",
     "output_type": "stream",
     "text": [
      "\n",
      "O pokémon que possui o maior ataque, dentre os dos tipos Fire e Grass é o:\n"
     ]
    },
    {
     "data": {
      "text/html": [
       "<div>\n",
       "<style scoped>\n",
       "    .dataframe tbody tr th:only-of-type {\n",
       "        vertical-align: middle;\n",
       "    }\n",
       "\n",
       "    .dataframe tbody tr th {\n",
       "        vertical-align: top;\n",
       "    }\n",
       "\n",
       "    .dataframe thead th {\n",
       "        text-align: right;\n",
       "    }\n",
       "</style>\n",
       "<table border=\"1\" class=\"dataframe\">\n",
       "  <thead>\n",
       "    <tr style=\"text-align: right;\">\n",
       "      <th></th>\n",
       "      <th>pokemon_nome</th>\n",
       "      <th>pokemon_tipo_1_nome</th>\n",
       "      <th>pokemon_attack</th>\n",
       "    </tr>\n",
       "  </thead>\n",
       "  <tbody>\n",
       "    <tr>\n",
       "      <th>593</th>\n",
       "      <td>BlazikenMega Blaziken</td>\n",
       "      <td>Fire</td>\n",
       "      <td>160</td>\n",
       "    </tr>\n",
       "  </tbody>\n",
       "</table>\n",
       "</div>"
      ],
      "text/plain": [
       "              pokemon_nome pokemon_tipo_1_nome  pokemon_attack\n",
       "593  BlazikenMega Blaziken                Fire             160"
      ]
     },
     "metadata": {},
     "output_type": "display_data"
    },
    {
     "name": "stdout",
     "output_type": "stream",
     "text": [
      "\n",
      "O pokémon que possui o maior defesa, dentre os dos tipos Fire e Grass é o:\n"
     ]
    },
    {
     "data": {
      "text/html": [
       "<div>\n",
       "<style scoped>\n",
       "    .dataframe tbody tr th:only-of-type {\n",
       "        vertical-align: middle;\n",
       "    }\n",
       "\n",
       "    .dataframe tbody tr th {\n",
       "        vertical-align: top;\n",
       "    }\n",
       "\n",
       "    .dataframe thead th {\n",
       "        text-align: right;\n",
       "    }\n",
       "</style>\n",
       "<table border=\"1\" class=\"dataframe\">\n",
       "  <thead>\n",
       "    <tr style=\"text-align: right;\">\n",
       "      <th></th>\n",
       "      <th>pokemon_nome</th>\n",
       "      <th>pokemon_tipo_1_nome</th>\n",
       "      <th>pokemon_defense</th>\n",
       "    </tr>\n",
       "  </thead>\n",
       "  <tbody>\n",
       "    <tr>\n",
       "      <th>117</th>\n",
       "      <td>Torkoal</td>\n",
       "      <td>Fire</td>\n",
       "      <td>140</td>\n",
       "    </tr>\n",
       "  </tbody>\n",
       "</table>\n",
       "</div>"
      ],
      "text/plain": [
       "    pokemon_nome pokemon_tipo_1_nome  pokemon_defense\n",
       "117      Torkoal                Fire              140"
      ]
     },
     "metadata": {},
     "output_type": "display_data"
    }
   ],
   "source": [
    "pokemon_max_attack = df_fire_and_grass.max()['pokemon_attack']\n",
    "\n",
    "pokemon_attack = df_fire_and_grass[df_fire_and_grass['pokemon_attack'] == pokemon_max_attack]\n",
    "\n",
    "pokemon_max_defense = df_fire_and_grass.max()['pokemon_defense']\n",
    "\n",
    "pokemon_defense = df_fire_and_grass[df_fire_and_grass['pokemon_defense'] == pokemon_max_defense]\n",
    "\n",
    "print(f\"\\nO pokémon que possui o maior ataque, dentre os dos tipos Fire e Grass é o:\")\n",
    "\n",
    "display(pokemon_attack[['pokemon_nome','pokemon_tipo_1_nome', 'pokemon_attack']])\n",
    "\n",
    "print(f\"\\nO pokémon que possui o maior defesa, dentre os dos tipos Fire e Grass é o:\")\n",
    "\n",
    "display(pokemon_defense[['pokemon_nome','pokemon_tipo_1_nome', 'pokemon_defense']])"
   ]
  },
  {
   "cell_type": "markdown",
   "metadata": {},
   "source": [
    "##### 7) Um treinador pokémon quer escolher um pokémon para a batalha. Faça uma análise para indicar o melhor pokemon possível para o embate.\n",
    "##### a) O adversário possui um pokémon do tipo Grass, e que esse tipo possui desvantagem sobre pokémons do tipo Bug, Fire, Flying, Ice e Poison.\n",
    "##### b) O pokémon deve ser no máximo da geração 3\n",
    "##### c) O ataque do pokémon deve ser menor ou igual a 100.\n",
    "##### d) A defesa deve ser maior que 30.\n",
    "##### e) O pokémon pode ter um tipo secundário que não influencia na regra a.\n",
    "##### f) O pokémon não pode ser lendário."
   ]
  },
  {
   "cell_type": "code",
   "execution_count": 82,
   "metadata": {},
   "outputs": [
    {
     "name": "stdout",
     "output_type": "stream",
     "text": [
      "Informações \n"
     ]
    },
    {
     "data": {
      "text/html": [
       "<div>\n",
       "<style scoped>\n",
       "    .dataframe tbody tr th:only-of-type {\n",
       "        vertical-align: middle;\n",
       "    }\n",
       "\n",
       "    .dataframe tbody tr th {\n",
       "        vertical-align: top;\n",
       "    }\n",
       "\n",
       "    .dataframe thead th {\n",
       "        text-align: right;\n",
       "    }\n",
       "</style>\n",
       "<table border=\"1\" class=\"dataframe\">\n",
       "  <thead>\n",
       "    <tr style=\"text-align: right;\">\n",
       "      <th></th>\n",
       "      <th>pokemon_total</th>\n",
       "      <th>pokemon_hp</th>\n",
       "      <th>pokemon_attack</th>\n",
       "      <th>pokemon_defense</th>\n",
       "      <th>pokemon_ataque_especial</th>\n",
       "      <th>pokemon_defesa_especial</th>\n",
       "      <th>pokemon_velocidade</th>\n",
       "    </tr>\n",
       "  </thead>\n",
       "  <tbody>\n",
       "    <tr>\n",
       "      <th>count</th>\n",
       "      <td>70.000000</td>\n",
       "      <td>70.000000</td>\n",
       "      <td>70.000000</td>\n",
       "      <td>70.000000</td>\n",
       "      <td>70.000000</td>\n",
       "      <td>70.000000</td>\n",
       "      <td>70.000000</td>\n",
       "    </tr>\n",
       "    <tr>\n",
       "      <th>mean</th>\n",
       "      <td>421.142857</td>\n",
       "      <td>67.271429</td>\n",
       "      <td>73.214286</td>\n",
       "      <td>70.800000</td>\n",
       "      <td>77.500000</td>\n",
       "      <td>70.428571</td>\n",
       "      <td>61.928571</td>\n",
       "    </tr>\n",
       "    <tr>\n",
       "      <th>std</th>\n",
       "      <td>106.650626</td>\n",
       "      <td>19.516564</td>\n",
       "      <td>25.380520</td>\n",
       "      <td>24.485192</td>\n",
       "      <td>27.244864</td>\n",
       "      <td>21.446645</td>\n",
       "      <td>28.506456</td>\n",
       "    </tr>\n",
       "    <tr>\n",
       "      <th>min</th>\n",
       "      <td>180.000000</td>\n",
       "      <td>30.000000</td>\n",
       "      <td>27.000000</td>\n",
       "      <td>30.000000</td>\n",
       "      <td>24.000000</td>\n",
       "      <td>30.000000</td>\n",
       "      <td>10.000000</td>\n",
       "    </tr>\n",
       "    <tr>\n",
       "      <th>25%</th>\n",
       "      <td>318.500000</td>\n",
       "      <td>51.250000</td>\n",
       "      <td>55.000000</td>\n",
       "      <td>50.000000</td>\n",
       "      <td>57.000000</td>\n",
       "      <td>55.000000</td>\n",
       "      <td>40.000000</td>\n",
       "    </tr>\n",
       "    <tr>\n",
       "      <th>50%</th>\n",
       "      <td>430.000000</td>\n",
       "      <td>65.500000</td>\n",
       "      <td>70.000000</td>\n",
       "      <td>66.000000</td>\n",
       "      <td>75.000000</td>\n",
       "      <td>66.000000</td>\n",
       "      <td>58.500000</td>\n",
       "    </tr>\n",
       "    <tr>\n",
       "      <th>75%</th>\n",
       "      <td>497.000000</td>\n",
       "      <td>75.000000</td>\n",
       "      <td>93.500000</td>\n",
       "      <td>84.500000</td>\n",
       "      <td>99.500000</td>\n",
       "      <td>85.000000</td>\n",
       "      <td>80.000000</td>\n",
       "    </tr>\n",
       "    <tr>\n",
       "      <th>max</th>\n",
       "      <td>630.000000</td>\n",
       "      <td>123.000000</td>\n",
       "      <td>132.000000</td>\n",
       "      <td>131.000000</td>\n",
       "      <td>145.000000</td>\n",
       "      <td>129.000000</td>\n",
       "      <td>145.000000</td>\n",
       "    </tr>\n",
       "  </tbody>\n",
       "</table>\n",
       "</div>"
      ],
      "text/plain": [
       "       pokemon_total  pokemon_hp  pokemon_attack  pokemon_defense  \\\n",
       "count      70.000000   70.000000       70.000000        70.000000   \n",
       "mean      421.142857   67.271429       73.214286        70.800000   \n",
       "std       106.650626   19.516564       25.380520        24.485192   \n",
       "min       180.000000   30.000000       27.000000        30.000000   \n",
       "25%       318.500000   51.250000       55.000000        50.000000   \n",
       "50%       430.000000   65.500000       70.000000        66.000000   \n",
       "75%       497.000000   75.000000       93.500000        84.500000   \n",
       "max       630.000000  123.000000      132.000000       131.000000   \n",
       "\n",
       "       pokemon_ataque_especial  pokemon_defesa_especial  pokemon_velocidade  \n",
       "count                70.000000                70.000000           70.000000  \n",
       "mean                 77.500000                70.428571           61.928571  \n",
       "std                  27.244864                21.446645           28.506456  \n",
       "min                  24.000000                30.000000           10.000000  \n",
       "25%                  57.000000                55.000000           40.000000  \n",
       "50%                  75.000000                66.000000           58.500000  \n",
       "75%                  99.500000                85.000000           80.000000  \n",
       "max                 145.000000               129.000000          145.000000  "
      ]
     },
     "metadata": {},
     "output_type": "display_data"
    },
    {
     "name": "stdout",
     "output_type": "stream",
     "text": [
      "\n",
      "Melhores pokémons possiveis do adversário: \n"
     ]
    },
    {
     "data": {
      "text/html": [
       "<div>\n",
       "<style scoped>\n",
       "    .dataframe tbody tr th:only-of-type {\n",
       "        vertical-align: middle;\n",
       "    }\n",
       "\n",
       "    .dataframe tbody tr th {\n",
       "        vertical-align: top;\n",
       "    }\n",
       "\n",
       "    .dataframe thead th {\n",
       "        text-align: right;\n",
       "    }\n",
       "</style>\n",
       "<table border=\"1\" class=\"dataframe\">\n",
       "  <thead>\n",
       "    <tr style=\"text-align: right;\">\n",
       "      <th></th>\n",
       "      <th>pokemon_nome</th>\n",
       "      <th>pokemon_total</th>\n",
       "      <th>pokemon_hp</th>\n",
       "      <th>pokemon_attack</th>\n",
       "      <th>pokemon_defense</th>\n",
       "      <th>pokemon_ataque_especial</th>\n",
       "      <th>pokemon_defesa_especial</th>\n",
       "      <th>pokemon_velocidade</th>\n",
       "    </tr>\n",
       "  </thead>\n",
       "  <tbody>\n",
       "    <tr>\n",
       "      <th>3</th>\n",
       "      <td>VenusaurMega Venusaur</td>\n",
       "      <td>625</td>\n",
       "      <td>80</td>\n",
       "      <td>100</td>\n",
       "      <td>123</td>\n",
       "      <td>122</td>\n",
       "      <td>120</td>\n",
       "      <td>80</td>\n",
       "    </tr>\n",
       "    <tr>\n",
       "      <th>87</th>\n",
       "      <td>ShayminLand Forme</td>\n",
       "      <td>600</td>\n",
       "      <td>100</td>\n",
       "      <td>100</td>\n",
       "      <td>100</td>\n",
       "      <td>100</td>\n",
       "      <td>100</td>\n",
       "      <td>100</td>\n",
       "    </tr>\n",
       "    <tr>\n",
       "      <th>457</th>\n",
       "      <td>ShayminSky Forme</td>\n",
       "      <td>600</td>\n",
       "      <td>100</td>\n",
       "      <td>103</td>\n",
       "      <td>75</td>\n",
       "      <td>120</td>\n",
       "      <td>75</td>\n",
       "      <td>127</td>\n",
       "    </tr>\n",
       "    <tr>\n",
       "      <th>550</th>\n",
       "      <td>SceptileMega Sceptile</td>\n",
       "      <td>630</td>\n",
       "      <td>70</td>\n",
       "      <td>110</td>\n",
       "      <td>75</td>\n",
       "      <td>145</td>\n",
       "      <td>85</td>\n",
       "      <td>145</td>\n",
       "    </tr>\n",
       "    <tr>\n",
       "      <th>589</th>\n",
       "      <td>Virizion</td>\n",
       "      <td>580</td>\n",
       "      <td>91</td>\n",
       "      <td>90</td>\n",
       "      <td>72</td>\n",
       "      <td>90</td>\n",
       "      <td>129</td>\n",
       "      <td>108</td>\n",
       "    </tr>\n",
       "    <tr>\n",
       "      <th>651</th>\n",
       "      <td>AbomasnowMega Abomasnow</td>\n",
       "      <td>594</td>\n",
       "      <td>90</td>\n",
       "      <td>132</td>\n",
       "      <td>105</td>\n",
       "      <td>132</td>\n",
       "      <td>105</td>\n",
       "      <td>30</td>\n",
       "    </tr>\n",
       "  </tbody>\n",
       "</table>\n",
       "</div>"
      ],
      "text/plain": [
       "                pokemon_nome  pokemon_total  pokemon_hp  pokemon_attack  \\\n",
       "3      VenusaurMega Venusaur            625          80             100   \n",
       "87         ShayminLand Forme            600         100             100   \n",
       "457         ShayminSky Forme            600         100             103   \n",
       "550    SceptileMega Sceptile            630          70             110   \n",
       "589                 Virizion            580          91              90   \n",
       "651  AbomasnowMega Abomasnow            594          90             132   \n",
       "\n",
       "     pokemon_defense  pokemon_ataque_especial  pokemon_defesa_especial  \\\n",
       "3                123                      122                      120   \n",
       "87               100                      100                      100   \n",
       "457               75                      120                       75   \n",
       "550               75                      145                       85   \n",
       "589               72                       90                      129   \n",
       "651              105                      132                      105   \n",
       "\n",
       "     pokemon_velocidade  \n",
       "3                    80  \n",
       "87                  100  \n",
       "457                 127  \n",
       "550                 145  \n",
       "589                 108  \n",
       "651                  30  "
      ]
     },
     "metadata": {},
     "output_type": "display_data"
    },
    {
     "name": "stdout",
     "output_type": "stream",
     "text": [
      "\n",
      "Pokémon que eu indico ao treinador\n"
     ]
    },
    {
     "data": {
      "text/html": [
       "<div>\n",
       "<style scoped>\n",
       "    .dataframe tbody tr th:only-of-type {\n",
       "        vertical-align: middle;\n",
       "    }\n",
       "\n",
       "    .dataframe tbody tr th {\n",
       "        vertical-align: top;\n",
       "    }\n",
       "\n",
       "    .dataframe thead th {\n",
       "        text-align: right;\n",
       "    }\n",
       "</style>\n",
       "<table border=\"1\" class=\"dataframe\">\n",
       "  <thead>\n",
       "    <tr style=\"text-align: right;\">\n",
       "      <th></th>\n",
       "      <th>pokemon_nome</th>\n",
       "      <th>pokemon_tipo_1_nome</th>\n",
       "      <th>pokemon_total</th>\n",
       "      <th>pokemon_hp</th>\n",
       "      <th>pokemon_attack</th>\n",
       "      <th>pokemon_defense</th>\n",
       "      <th>pokemon_ataque_especial</th>\n",
       "      <th>pokemon_defesa_especial</th>\n",
       "      <th>pokemon_velocidade</th>\n",
       "    </tr>\n",
       "  </thead>\n",
       "  <tbody>\n",
       "    <tr>\n",
       "      <th>511</th>\n",
       "      <td>Crobat</td>\n",
       "      <td>Poison</td>\n",
       "      <td>535</td>\n",
       "      <td>85</td>\n",
       "      <td>90</td>\n",
       "      <td>80</td>\n",
       "      <td>70</td>\n",
       "      <td>80</td>\n",
       "      <td>130</td>\n",
       "    </tr>\n",
       "  </tbody>\n",
       "</table>\n",
       "</div>"
      ],
      "text/plain": [
       "    pokemon_nome pokemon_tipo_1_nome  pokemon_total  pokemon_hp  \\\n",
       "511       Crobat              Poison            535          85   \n",
       "\n",
       "     pokemon_attack  pokemon_defense  pokemon_ataque_especial  \\\n",
       "511              90               80                       70   \n",
       "\n",
       "     pokemon_defesa_especial  pokemon_velocidade  \n",
       "511                       80                 130  "
      ]
     },
     "metadata": {},
     "output_type": "display_data"
    },
    {
     "name": "stdout",
     "output_type": "stream",
     "text": [
      "Levando em consideração que pokémons do tipo Grass, possuem desvantagem sobre pokémons do tipo Bug, Fire, Flying, Ice e Poison, indico o pokémon, pois ele possui valores superiores a média e ao 3° quartil, ou seja, possui números que indicam vitória contra 91.43 % dos pokémons do tipo Grass.\n"
     ]
    }
   ],
   "source": [
    "# Sabendo que o tipo grass tem desvantagem ao combater com alguns tipos, vou fazer a busca por estes, aplicando após, as regras citadas.\n",
    "\n",
    "coach_options_pokemon = df_pokemon_complete.query(\n",
    "    'pokemon_tipo_1_nome == \"Bug\"'\n",
    "    '| pokemon_tipo_1_nome == \"Fire\"'\n",
    "    '| pokemon_tipo_1_nome == \"Flying\"'\n",
    "    '| pokemon_tipo_1_nome == \"Ice\"'\n",
    "    '| pokemon_tipo_1_nome == \"Poison\"'\n",
    ")\n",
    "\n",
    "coach_options_pokemon = coach_options_pokemon.query(\n",
    "    'pokemon_geracao <= 3'\n",
    "    '& pokemon_attack <= 100'\n",
    "    '& pokemon_defense > 30'\n",
    "    '& pokemon_lendario == False' \n",
    ")\n",
    "\n",
    "# Busca pelo melhor pokémon, iniciando buscando o valor máximo do campo pokemon_total, e após busco ele no DF\n",
    "coach_pokemon_max_value = coach_options_pokemon.max()['pokemon_total']\n",
    "\n",
    "pokemon_coach_choice = coach_options_pokemon[coach_options_pokemon['pokemon_total'] == coach_pokemon_max_value]\n",
    "\n",
    "# Buscando qual a melhor opção de pokémon que o adversário pode ter, me baseando no valor que consta na coluna pokemon_total.\n",
    "options_adversary_pokemon = df_pokemon_complete.query('pokemon_tipo_1_id == 10')\n",
    "\n",
    "best_adversary_pokemon = adversary_pokemon[adversary_pokemon['pokemon_total'] >  coach_pokemon_max_value]\n",
    "\n",
    "# Calculo para saber qual a % de pokémos possiveis ao adversario, que minha indicação possui tendencia a vitória.\n",
    "count_best_adversary = best_adversary_pokemon.count()['pokemon_nome']\n",
    "\n",
    "count_options_adversary = options_adversary_pokemon.count()['pokemon_nome']\n",
    "\n",
    "percent_victory = round((((count_best_adversary * 100) / count_options_adversary) - 100) *-1, 2)\n",
    "\n",
    "print('Informações ')\n",
    "display(options_adversary_pokemon[['pokemon_total','pokemon_hp','pokemon_attack','pokemon_defense','pokemon_ataque_especial','pokemon_defesa_especial','pokemon_velocidade']].describe())\n",
    "\n",
    "print('\\nMelhores pokémons possiveis do adversário: ')\n",
    "display(best_adversary_pokemon[['pokemon_nome','pokemon_total','pokemon_hp','pokemon_attack','pokemon_defense','pokemon_ataque_especial','pokemon_defesa_especial','pokemon_velocidade']])\n",
    "\n",
    "print('\\nPokémon que eu indico ao treinador')\n",
    "display(pokemon_coach_choice[['pokemon_nome','pokemon_tipo_1_nome','pokemon_total','pokemon_hp','pokemon_attack','pokemon_defense','pokemon_ataque_especial','pokemon_defesa_especial','pokemon_velocidade']])\n",
    "\n",
    "print(f\"Levando em consideração que pokémons do tipo Grass, possuem desvantagem sobre pokémons do tipo Bug, Fire, Flying, Ice e Poison, indico o pokémon, pois ele possui valores\"\n",
    " f\" superiores a média e ao 3° quartil, ou seja, possui números que indicam vitória contra {percent_victory} % dos pokémons do tipo Grass.\")\n"
   ]
  }
 ],
 "metadata": {
  "kernelspec": {
   "display_name": "Python 3.10.6 64-bit",
   "language": "python",
   "name": "python3"
  },
  "language_info": {
   "codemirror_mode": {
    "name": "ipython",
    "version": 3
   },
   "file_extension": ".py",
   "mimetype": "text/x-python",
   "name": "python",
   "nbconvert_exporter": "python",
   "pygments_lexer": "ipython3",
   "version": "3.10.6"
  },
  "orig_nbformat": 4,
  "vscode": {
   "interpreter": {
    "hash": "31f2aee4e71d21fbe5cf8b01ff0e069b9275f58929596ceb00d14d90e3e16cd6"
   }
  }
 },
 "nbformat": 4,
 "nbformat_minor": 2
}
